{
 "cells": [
  {
   "cell_type": "markdown",
   "metadata": {},
   "source": [
    "# Multiple sclerosis lesion prediction\n",
    "\n",
    "Authors:\n",
    "  + Karma Tarap\n",
    "  + Alexander Noll\n",
    "  \n",
    "## Abstract"
   ]
  },
  {
   "cell_type": "markdown",
   "metadata": {},
   "source": [
    "# Methods"
   ]
  },
  {
   "cell_type": "markdown",
   "metadata": {},
   "source": [
    "# Data"
   ]
  },
  {
   "cell_type": "code",
   "execution_count": null,
   "metadata": {},
   "outputs": [],
   "source": [
    "import urllib.request\n",
    "import os.path\n",
    "import zipfile\n",
    "import os\n",
    "\n",
    "\n",
    "files = ['https://s3.amazonaws.com/csci82projectdata/ms-2008/CHB_test1_Part1.zip',\n",
    "         'https://s3.amazonaws.com/csci82projectdata/ms-2008/CHB_test1_Part2.zip',\n",
    "         'https://s3.amazonaws.com/csci82projectdata/ms-2008/CHB_test1_Part3.zip',\n",
    "         'https://s3.amazonaws.com/csci82projectdata/ms-2008/CHB_train_Part2.zip',\n",
    "         'https://s3.amazonaws.com/csci82projectdata/ms-2008/UNC_test1_Part1.zip',\n",
    "         'https://s3.amazonaws.com/csci82projectdata/ms-2008/UNC_test1_Part2.zip',\n",
    "         'https://s3.amazonaws.com/csci82projectdata/ms-2008/UNC_train_Part1.zip',\n",
    "         'https://s3.amazonaws.com/csci82projectdata/ms-2008/UNC_train_Part2.zip']\n",
    "\n",
    "def download_and_unzip(url):\n",
    "    \"\"\"\n",
    "    Downloads and extracts file from S3 bucket. After extraction, the zip file is deleted.\n",
    "    \"\"\"\n",
    "    folder = url[51:66]\n",
    "    target_file = os.path.join('data', folder + '.zip')\n",
    "    urllib.request.urlretrieve(url, target_file)    \n",
    "    \n",
    "    zip_ref = zipfile.ZipFile(target_file, 'r')\n",
    "    zip_ref.extractall(os.path.join('data', folder))\n",
    "    zip_ref.close()\n",
    "    \n",
    "    os.remove(target_file)\n",
    "    \n",
    "list(map(download_and_unzip, files))"
   ]
  },
  {
   "cell_type": "code",
   "execution_count": 1,
   "metadata": {
    "collapsed": true
   },
   "outputs": [],
   "source": [
    "files = ['https://s3.amazonaws.com/csci82projectdata/ms-2008/UNC_test1_Part2.zip']"
   ]
  },
  {
   "cell_type": "code",
   "execution_count": 5,
   "metadata": {},
   "outputs": [
    {
     "name": "stderr",
     "output_type": "stream",
     "text": [
      "243it [00:00, 123691.25it/s]\n"
     ]
    }
   ],
   "source": [
    "from tqdm import tqdm\n",
    "import requests\n",
    "\n",
    "url = 'https://s3.amazonaws.com/csci82projectdata/ms-2008/UNC_test1_Part2.zip'\n",
    "response = requests.get(url, stream=True)\n",
    "\n",
    "with open(\"100MB\", \"wb\") as handle:\n",
    "    for data in tqdm(response.iter_content()):\n",
    "        handle.write(data)"
   ]
  },
  {
   "cell_type": "code",
   "execution_count": 9,
   "metadata": {},
   "outputs": [
    {
     "data": {
      "text/plain": [
       "('mp3.mp3', <http.client.HTTPMessage at 0x7fc1b494f198>)"
      ]
     },
     "execution_count": 9,
     "metadata": {},
     "output_type": "execute_result"
    }
   ],
   "source": [
    "import urllib.request\n",
    "urllib.request.urlretrieve('https://s3.amazonaws.com/csci82projectdata/ms-2008/UNC_test1_Part2.zip', 'mp3.mp3')"
   ]
  },
  {
   "cell_type": "code",
   "execution_count": null,
   "metadata": {
    "collapsed": true
   },
   "outputs": [],
   "source": []
  }
 ],
 "metadata": {
  "kernelspec": {
   "display_name": "Python 3",
   "language": "python",
   "name": "python3"
  },
  "language_info": {
   "codemirror_mode": {
    "name": "ipython",
    "version": 3
   },
   "file_extension": ".py",
   "mimetype": "text/x-python",
   "name": "python",
   "nbconvert_exporter": "python",
   "pygments_lexer": "ipython3",
   "version": "3.6.2"
  }
 },
 "nbformat": 4,
 "nbformat_minor": 2
}
